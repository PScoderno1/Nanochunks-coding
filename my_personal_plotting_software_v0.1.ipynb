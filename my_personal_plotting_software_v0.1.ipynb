{
 "cells": [
  {
   "cell_type": "code",
   "execution_count": 1,
   "id": "773d4dd4-ce48-46da-a2ad-2a901a962256",
   "metadata": {
    "tags": []
   },
   "outputs": [
    {
     "name": "stdout",
     "output_type": "stream",
     "text": [
      "Selected file: /Users/priyanka/Downloads/ligo.dat\n"
     ]
    },
    {
     "data": {
      "image/png": "[encoded data removed]",
      "text/plain": [
       "<Figure size 640x480 with 1 Axes>"
      ]
     },
     "metadata": {},
     "output_type": "display_data"
    }
   ],
   "source": [
    "import tkinter as tk\n",
    "from tkinter import filedialog\n",
    "import numpy as np\n",
    "import matplotlib.pyplot as plt\n",
    "from matplotlib.backends.backend_tkagg import FigureCanvasTkAgg\n",
    "\n",
    "\n",
    "class DataPlotterApp:\n",
    "    def __init__(self, master):\n",
    "        self.master = master\n",
    "        self.master.title(\"Data Plotter\")\n",
    "\n",
    "        # Frame for buttons\n",
    "        self.button_frame = tk.Frame(self.master)\n",
    "        self.button_frame.pack(pady=10)\n",
    "\n",
    "        # Button to select data file\n",
    "        self.select_button = tk.Button(self.button_frame, text=\"Select Data File\", command=self.select_data_file)\n",
    "        self.select_button.pack(side=tk.LEFT, padx=10)\n",
    "\n",
    "        # Button to plot data\n",
    "        self.plot_button = tk.Button(self.button_frame, text=\"Plot Data\", command=self.plot_data)\n",
    "        self.plot_button.pack(side=tk.LEFT, padx=10)\n",
    "\n",
    "        # Entry fields for x-label, y-label, and plot title\n",
    "        self.label_frame = tk.Frame(self.master)\n",
    "        self.label_frame.pack(pady=5)\n",
    "\n",
    "        tk.Label(self.label_frame, text=\"X-label:\").grid(row=0, column=0, padx=5)\n",
    "        self.xlabel_entry = tk.Entry(self.label_frame)\n",
    "        self.xlabel_entry.grid(row=0, column=1, padx=5)\n",
    "\n",
    "        tk.Label(self.label_frame, text=\"Y-label:\").grid(row=0, column=2, padx=5)\n",
    "        self.ylabel_entry = tk.Entry(self.label_frame)\n",
    "        self.ylabel_entry.grid(row=0, column=3, padx=5)\n",
    "\n",
    "        tk.Label(self.label_frame, text=\"Plot Title:\").grid(row=0, column=4, padx=5)\n",
    "        self.title_entry = tk.Entry(self.label_frame)\n",
    "        self.title_entry.grid(row=0, column=5, padx=5)\n",
    "\n",
    "        # Frame for plot\n",
    "        self.plot_frame = tk.Frame(self.master)\n",
    "        self.plot_frame.pack(pady=10)\n",
    "\n",
    "        # Initialize plot\n",
    "        self.fig, self.ax = plt.subplots()\n",
    "        self.canvas = FigureCanvasTkAgg(self.fig, master=self.plot_frame)\n",
    "        self.canvas.get_tk_widget().pack(side=tk.TOP, fill=tk.BOTH, expand=True)\n",
    "\n",
    "    def select_data_file(self):\n",
    "        self.filename = filedialog.askopenfilename(title=\"Select Data File\", filetypes=[(\"Data Files\", \"*.dat\")])\n",
    "        print(\"Selected file:\", self.filename)\n",
    "\n",
    "    def plot_data(self):\n",
    "        try:\n",
    "            data = np.loadtxt(self.filename)\n",
    "            self.ax.clear()\n",
    "            self.ax.plot(data[:, 0], data[:, 1])\n",
    "            self.ax.set_xlabel(self.xlabel_entry.get())\n",
    "            self.ax.set_ylabel(self.ylabel_entry.get())\n",
    "            self.ax.set_title(self.title_entry.get())\n",
    "            self.canvas.draw()\n",
    "        except AttributeError:\n",
    "            print(\"Please select a data file first.\")\n",
    "        except Exception as e:\n",
    "            print(\"An error occurred:\", e)\n",
    "\n",
    "\n",
    "def main():\n",
    "    root = tk.Tk()\n",
    "    app = DataPlotterApp(root)\n",
    "    root.mainloop()\n",
    "\n",
    "\n",
    "if __name__ == \"__main__\":\n",
    "    main()\n"
   ]
  },
  {
   "cell_type": "code",
   "execution_count": null,
   "id": "f90a9efe-ba3f-468a-9899-94cace985430",
   "metadata": {},
   "outputs": [],
   "source": []
  }
 ],
 "metadata": {
  "kernelspec": {
   "display_name": "Python 3 (ipykernel)",
   "language": "python",
   "name": "python3"
  },
  "language_info": {
   "codemirror_mode": {
    "name": "ipython",
    "version": 3
   },
   "file_extension": ".py",
   "mimetype": "text/x-python",
   "name": "python",
   "nbconvert_exporter": "python",
   "pygments_lexer": "ipython3",
   "version": "3.11.5"
  }
 },
 "nbformat": 4,
 "nbformat_minor": 5
}
